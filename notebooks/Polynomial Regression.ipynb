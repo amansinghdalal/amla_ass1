{
 "cells": [
  {
   "cell_type": "code",
   "execution_count": 1,
   "id": "96beb626-9db3-492d-91aa-091444f46abe",
   "metadata": {},
   "outputs": [],
   "source": [
    "%load_ext autoreload\n",
    "%autoreload 2"
   ]
  },
  {
   "cell_type": "code",
   "execution_count": 2,
   "id": "20de00fd-4688-4d87-a3ab-300e3fde5ffd",
   "metadata": {},
   "outputs": [],
   "source": [
    "import pandas as pd\n",
    "import numpy as np\n",
    "from joblib import dump\n",
    "from sklearn.preprocessing import StandardScaler\n",
    "from sklearn.preprocessing import PolynomialFeatures\n",
    "from sklearn.linear_model import LogisticRegression\n",
    "from sklearn.model_selection import StratifiedKFold, GridSearchCV\n",
    "from sklearn.metrics import roc_auc_score\n",
    "\n",
    "from joblib import dump\n",
    "from sklearn.metrics import root_mean_squared_error as rmse\n",
    "from sklearn.metrics import mean_absolute_error as mae\n"
   ]
  },
  {
   "cell_type": "code",
   "execution_count": 3,
   "id": "e54aeb3d-61e7-4fd6-a8bb-e0cbd27d54ee",
   "metadata": {},
   "outputs": [],
   "source": [
    "X_train = pd.read_csv('../data/processed/X_train.csv')\n",
    "X_val   = pd.read_csv('../data/processed/X_val.csv'  )\n",
    "X_test  = pd.read_csv('../data/processed/X_test.csv' )\n",
    "y_train = pd.read_csv('../data/processed/y_train.csv')\n",
    "y_val   = pd.read_csv('../data/processed/y_val.csv'  )\n",
    "y_test  = pd.read_csv('../data/processed/y_test.csv' )"
   ]
  },
  {
   "cell_type": "code",
   "execution_count": 4,
   "id": "8eeddaf2-1fbf-42ac-a278-66ee1fd2c024",
   "metadata": {},
   "outputs": [],
   "source": [
    "scaler = StandardScaler()\n",
    "X_train_scaled = scaler.fit_transform(X_train)\n",
    "X_test_scaled = scaler.transform(X_test)\n",
    "X_val_scaled = scaler.transform(X_val)"
   ]
  },
  {
   "cell_type": "code",
   "execution_count": 5,
   "id": "c6b36e45-a65c-4165-84c4-f893d1d9f6ec",
   "metadata": {},
   "outputs": [],
   "source": [
    "poly = PolynomialFeatures(degree=2)"
   ]
  },
  {
   "cell_type": "code",
   "execution_count": 6,
   "id": "65f9af32-bdd8-41d5-922e-f76e13c2d945",
   "metadata": {},
   "outputs": [],
   "source": [
    "X_train_poly = poly.fit_transform(X_train_scaled)\n",
    "X_val_poly = poly.transform(X_val_scaled)"
   ]
  },
  {
   "cell_type": "code",
   "execution_count": 7,
   "id": "049d5aab-a0e7-4964-b374-bf247293c344",
   "metadata": {},
   "outputs": [],
   "source": [
    "log_reg = LogisticRegression(solver=\"liblinear\",max_iter=1000)\n",
    "\n",
    "param_grid = {\n",
    "    \"C\": [100, 10, 1.0, 0.1, 0.01],\n",
    "    \"penalty\":[\"l1\",\"l2\"]\n",
    "}"
   ]
  },
  {
   "cell_type": "code",
   "execution_count": 8,
   "id": "66bfba53-5aa2-418b-9284-eca6293a15be",
   "metadata": {},
   "outputs": [],
   "source": [
    "y_train = y_train.values.ravel()"
   ]
  },
  {
   "cell_type": "code",
   "execution_count": null,
   "id": "95b95157-b09b-499a-a871-f021b2980b7c",
   "metadata": {},
   "outputs": [
    {
     "name": "stdout",
     "output_type": "stream",
     "text": [
      "Fitting 5 folds for each of 10 candidates, totalling 50 fits\n"
     ]
    }
   ],
   "source": [
    "cv_log = StratifiedKFold(n_splits=5)\n",
    "\n",
    "grid = GridSearchCV(log_reg, param_grid, cv=cv_log, refit=True, scoring='roc_auc', verbose=2)\n",
    "grid.fit(X_train_poly, y_train)\n",
    "\n",
    "print(\"Best hyperparameters:\", grid.best_params_)"
   ]
  },
  {
   "cell_type": "code",
   "execution_count": null,
   "id": "f112968c-b6fb-45c7-b601-39f9779de522",
   "metadata": {},
   "outputs": [],
   "source": [
    "best_log_reg = grid.best_estimator_\n",
    "y_pred_proba = best_log_reg.predict_proba(X_val_poly)[:, 1]\n",
    "roc_auc = roc_auc_score(y_val, y_pred_proba)\n",
    "print(\"Validation ROC AUC:\", roc_auc)"
   ]
  },
  {
   "cell_type": "code",
   "execution_count": null,
   "id": "10995533-4991-414b-a1dd-bcda00978ff3",
   "metadata": {},
   "outputs": [],
   "source": [
    "model1 = LogisticRegression(solver=\"liblinear\",C=0.1, penalty= \"l1\")\n",
    "\n",
    "model1.fit(X_train_scaled, y_train)"
   ]
  },
  {
   "cell_type": "code",
   "execution_count": null,
   "id": "4e6d60ef-c143-483a-85bf-92b600ca722d",
   "metadata": {},
   "outputs": [],
   "source": []
  }
 ],
 "metadata": {
  "kernelspec": {
   "display_name": "Python 3 (ipykernel)",
   "language": "python",
   "name": "python3"
  },
  "language_info": {
   "codemirror_mode": {
    "name": "ipython",
    "version": 3
   },
   "file_extension": ".py",
   "mimetype": "text/x-python",
   "name": "python",
   "nbconvert_exporter": "python",
   "pygments_lexer": "ipython3",
   "version": "3.11.4"
  }
 },
 "nbformat": 4,
 "nbformat_minor": 5
}
